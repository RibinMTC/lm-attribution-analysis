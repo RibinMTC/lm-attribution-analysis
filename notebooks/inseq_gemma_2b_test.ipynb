{
 "cells": [
  {
   "cell_type": "code",
   "id": "initial_id",
   "metadata": {
    "collapsed": true,
    "ExecuteTime": {
     "end_time": "2024-07-03T10:50:00.376651Z",
     "start_time": "2024-07-03T10:49:58.319681Z"
    }
   },
   "source": [
    "import inseq\n",
    "import pandas as pd\n",
    "from matplotlib import pyplot as plt\n",
    "from transformers import AutoModelForCausalLM, AutoTokenizer\n",
    "import seaborn as sns"
   ],
   "outputs": [],
   "execution_count": 1
  },
  {
   "metadata": {
    "ExecuteTime": {
     "end_time": "2024-07-03T10:50:06.116655Z",
     "start_time": "2024-07-03T10:50:01.337934Z"
    }
   },
   "cell_type": "code",
   "source": [
    "model_path = \"/media/cribin/4ff138a6-4ad8-4fcb-b932-97393d17c043/FaithfulSummarization/gemma_2b_span_absinth_finetuned/merged\"\n",
    "# model_path = \"/media/cribin/4ff138a6-4ad8-4fcb-b932-97393d17c043/FaithfulSummarization/mistral-7b_span_absinth_finetuned/merged\"\n",
    "model = AutoModelForCausalLM.from_pretrained(model_path, load_in_8bit=True, device_map=\"auto\")\n",
    "tokenizer = AutoTokenizer.from_pretrained(model_path)"
   ],
   "id": "fa17bcd54625e71d",
   "outputs": [
    {
     "name": "stderr",
     "output_type": "stream",
     "text": [
      "The `load_in_4bit` and `load_in_8bit` arguments are deprecated and will be removed in the future versions. Please, pass a `BitsAndBytesConfig` object in `quantization_config` argument instead.\n"
     ]
    },
    {
     "data": {
      "text/plain": [
       "Loading checkpoint shards:   0%|          | 0/2 [00:00<?, ?it/s]"
      ],
      "application/vnd.jupyter.widget-view+json": {
       "version_major": 2,
       "version_minor": 0,
       "model_id": "40a2ae7cdf624267af65277ffab43bd0"
      }
     },
     "metadata": {},
     "output_type": "display_data"
    }
   ],
   "execution_count": 2
  },
  {
   "metadata": {
    "ExecuteTime": {
     "end_time": "2024-07-03T10:50:08.587538Z",
     "start_time": "2024-07-03T10:50:07.986835Z"
    }
   },
   "cell_type": "code",
   "source": [
    "attrib_model = inseq.load_model(\n",
    "    model=model,\n",
    "    attribution_method=\"saliency\"\n",
    ")"
   ],
   "id": "916347741e0dd002",
   "outputs": [
    {
     "name": "stderr",
     "output_type": "stream",
     "text": [
      "The model is loaded in 8bit mode. The device cannot be changed after loading the model.\n"
     ]
    }
   ],
   "execution_count": 3
  },
  {
   "metadata": {
    "ExecuteTime": {
     "end_time": "2024-07-03T10:50:29.858098Z",
     "start_time": "2024-07-03T10:50:29.854497Z"
    }
   },
   "cell_type": "code",
   "source": [
    "input_prompt = \"\"\"<Anweisung>\n",
    "Gegeben ist ein Artikel und ein spezifischer Satz, der aus diesem Artikel abgeleitet wurde. Analysiere den gesamten Satz, um seine Treue zum ursprünglichen Artikel zu bestimmen. Der Satz kann 'Faithful' (der Satz gibt die Information im Artikel wieder ohne jegliche Änderung), 'Intrinsic' (der Satz ändert oder widerspricht Informationen aus dem Artikel) oder 'Extrinsic' (der Satz führt neue, nicht verwandte Informationen ein, die nicht im Artikel enthalten sind) sein.\n",
    "Falls der Satz 'Intrinsic' oder 'Extrinsic' ist, identifiziere und gib die entsprechenden Satzabschnitte an, wobei jeder Abschnitt ein eigenes Label erhält. Ein Satz kann verschiedene Arten von Halluzinationen enthalten.\n",
    "</Anweisung>\n",
    "\n",
    "<Artikel>\n",
    "Thomas ist 6 Jahre alt.\n",
    "</Artikel>\n",
    "<Satz>\n",
    "Thomas ist 7 Jahre alt.\n",
    "</Satz>\n",
    "<Antwort>\n",
    "\"\"\"\n",
    "faithful_completion = \"\"\"{\n",
    "    \"Antwort\": [\n",
    "        {\n",
    "            \"Satzabschnitt\": \"-\",\n",
    "            \"Label\": \"Faithful\"\n",
    "        }\n",
    "    ]\n",
    "}\n",
    "</Antwort>\"\"\"\n",
    "intrinsic_completion = \"\"\"{\n",
    "    \"Antwort\": [\n",
    "        {\n",
    "            \"Satzabschnitt\": \"7\",\n",
    "            \"Label\": \"Intrinsic\"\n",
    "        }\n",
    "    ]\n",
    "}\n",
    "</Antwort>\"\"\"\n",
    "output_faithful = input_prompt + faithful_completion\n",
    "output_intrinsic = input_prompt + intrinsic_completion\n"
   ],
   "id": "6ec01ba57c0baa4b",
   "outputs": [],
   "execution_count": 4
  },
  {
   "metadata": {
    "ExecuteTime": {
     "end_time": "2024-07-03T10:50:37.373942Z",
     "start_time": "2024-07-03T10:50:32.569344Z"
    }
   },
   "cell_type": "code",
   "source": [
    "input_tokens = tokenizer(input_prompt, return_tensors=\"pt\").to(model.device)\n",
    "model_completion = model.generate(input_tokens.input_ids, max_new_tokens=100)\n",
    "output_text = tokenizer.batch_decode(model_completion, skip_special_tokens=True, clean_up_tokenization_spaces=False)[0]\n",
    "print(output_text)"
   ],
   "id": "ebd822447f94cd17",
   "outputs": [
    {
     "name": "stdout",
     "output_type": "stream",
     "text": [
      "<Anweisung>\n",
      "Gegeben ist ein Artikel und ein spezifischer Satz, der aus diesem Artikel abgeleitet wurde. Analysiere den gesamten Satz, um seine Treue zum ursprünglichen Artikel zu bestimmen. Der Satz kann 'Faithful' (der Satz gibt die Information im Artikel wieder ohne jegliche Änderung), 'Intrinsic' (der Satz ändert oder widerspricht Informationen aus dem Artikel) oder 'Extrinsic' (der Satz führt neue, nicht verwandte Informationen ein, die nicht im Artikel enthalten sind) sein.\n",
      "Falls der Satz 'Intrinsic' oder 'Extrinsic' ist, identifiziere und gib die entsprechenden Satzabschnitte an, wobei jeder Abschnitt ein eigenes Label erhält. Ein Satz kann verschiedene Arten von Halluzinationen enthalten.\n",
      "</Anweisung>\n",
      "\n",
      "<Artikel>\n",
      "Thomas ist 6 Jahre alt.\n",
      "</Artikel>\n",
      "<Satz>\n",
      "Thomas ist 7 Jahre alt.\n",
      "</Satz>\n",
      "<Antwort>\n",
      "{\n",
      "    \"Antwort\": [\n",
      "        {\n",
      "            \"Satzabschnitt\": \"-\",\n",
      "            \"Label\": \"Faithful\"\n",
      "        }\n",
      "    ]\n",
      "}\n",
      "</Antwort>\n"
     ]
    }
   ],
   "execution_count": 5
  },
  {
   "metadata": {
    "ExecuteTime": {
     "end_time": "2024-07-03T11:04:41.288538Z",
     "start_time": "2024-07-03T11:04:31.544463Z"
    }
   },
   "cell_type": "code",
   "source": [
    "out = attrib_model.attribute(\n",
    "    input_texts=input_prompt,\n",
    "    generated_texts=output_faithful,\n",
    "    # contrast_targets=output_faithful,\n",
    "    # attributed_fn=\"contrast_prob_diff\",\n",
    "    # step_scores=[\"probability\", \"contrast_prob_diff\"],\n",
    ")\n",
    "\n",
    "# subw_sqa_agg = out.aggregate(\"subwords\", special_symbol=(\"▁\", \"\\n\")).aggregate()\n",
    "#subw_viz = subw_sqa_agg.show(return_html=True, do_aggregation=False)\n"
   ],
   "id": "4a8f1feca88a8e6e",
   "outputs": [
    {
     "name": "stderr",
     "output_type": "stream",
     "text": [
      "Attributing with saliency...: 100%|██████████| 233/233 [00:09<00:00,  4.13it/s]\n"
     ]
    }
   ],
   "execution_count": 17
  },
  {
   "metadata": {
    "ExecuteTime": {
     "end_time": "2024-07-03T11:04:46.737695Z",
     "start_time": "2024-07-03T11:04:46.367603Z"
    }
   },
   "cell_type": "code",
   "source": [
    "output_attribution = out[0].aggregate(\"subwords\")\n",
    "start_indices = [i for i, source_token in enumerate(list(output_attribution.source)) if \"<Artikel>\" in source_token.token]\n",
    "end_indices = [i for i, source_token in enumerate(output_attribution.source) if \"</Satz>\" in source_token.token]\n",
    "input_start_pos = start_indices[0] if start_indices else -1\n",
    "input_end_pos =end_indices[0] + 1 if end_indices else -1\n",
    "output_attribution[input_start_pos:input_end_pos].show()"
   ],
   "id": "ac0d8fe2477e5c01",
   "outputs": [
    {
     "data": {
      "text/plain": [
       "<IPython.core.display.HTML object>"
      ],
      "text/html": [
       "<br/><b>0th instance:</b><br/>\n",
       "<html>\n",
       "<div id=\"sjgdmbwnrgsketercpwc_viz_container\">\n",
       "    <div id=\"sjgdmbwnrgsketercpwc_content\" style=\"padding:15px;border-style:solid;margin:5px;\">\n",
       "        <div id = \"sjgdmbwnrgsketercpwc_saliency_plot_container\" class=\"sjgdmbwnrgsketercpwc_viz_container\" style=\"display:block\">\n",
       "            \n",
       "<div id=\"blehyrdbgudpvgxbkugq_saliency_plot\" class=\"blehyrdbgudpvgxbkugq_viz_content\">\n",
       "    <div style=\"margin:5px;font-family:sans-serif;font-weight:bold;\">\n",
       "        <span style=\"font-size: 20px;\">Target Saliency Heatmap</span>\n",
       "        <br>\n",
       "        → : Generated tokens, ↓ : Attributed tokens\n",
       "    </div>\n",
       "    \n",
       "<table border=\"1\" cellpadding=\"5\" cellspacing=\"5\"\n",
       "    style=\"overflow-x:scroll;display:block;\">\n",
       "<tr><th></th><th></th><th>0</th><th>1</th><th>2</th><th>3</th><th>4</th><th>5</th><th>6</th><th>7</th><th>8</th><th>9</th><th>10</th></tr><tr><th></th><th></th><th>▁alt.\n",
       "&lt;/Satz&gt;\n",
       "&lt;Antwort&gt;\n",
       "{\n",
       "</th><th>▁▁▁▁\"Antwort\":</th><th>▁[\n",
       "</th><th>▁▁▁▁▁▁▁▁{\n",
       "</th><th>▁▁▁▁▁▁▁▁▁▁▁▁\"Satzabschnitt\":</th><th>▁\"-\",\n",
       "</th><th>▁▁▁▁▁▁▁▁▁▁▁▁\"Label\":</th><th>▁\"Faithful\"\n",
       "</th><th>▁▁▁▁▁▁▁▁}\n",
       "</th><th>▁▁▁▁]\n",
       "}\n",
       "&lt;/Antwort</th><th>&gt;</th></tr><tr><th>0</th><th>▁enthalten.\n",
       "&lt;/Anweisung&gt;\n",
       "\n",
       "&lt;Artikel&gt;\n",
       "Thomas</th><th style=\"background:rgba(255.0, 13.0, 87.0, 0.14866310160427795)\">0.151</th><th style=\"background:rgba(255.0, 13.0, 87.0, 0.10924935630817992)\">0.114</th><th style=\"background:rgba(255.0, 13.0, 87.0, 0.09348385818974037)\">0.095</th><th style=\"background:rgba(255.0, 13.0, 87.0, 0.08560110913052081)\">0.09</th><th style=\"background:rgba(255.0, 13.0, 87.0, 0.04618736383442265)\">0.047</th><th style=\"background:rgba(255.0, 13.0, 87.0, 0.05407011289364243)\">0.058</th><th style=\"background:rgba(255.0, 13.0, 87.0, 0.030421865715983164)\">0.037</th><th style=\"background:rgba(255.0, 13.0, 87.0, 0.030421865715983164)\">0.032</th><th style=\"background:rgba(255.0, 13.0, 87.0, 0.05407011289364243)\">0.059</th><th style=\"background:rgba(255.0, 13.0, 87.0, 0.030421865715983164)\">0.037</th><th style=\"background:rgba(230.2941176470614, 26.505882352939775, 102.59215686274348, 0.0)\">0.0</th></tr><tr><th>1</th><th>▁ist</th><th style=\"background:rgba(255.0, 13.0, 87.0, 0.08560110913052081)\">0.087</th><th style=\"background:rgba(255.0, 13.0, 87.0, 0.02253911665676371)\">0.024</th><th style=\"background:rgba(255.0, 13.0, 87.0, 0.030421865715983164)\">0.035</th><th style=\"background:rgba(255.0, 13.0, 87.0, 0.030421865715983164)\">0.037</th><th style=\"background:rgba(255.0, 13.0, 87.0, 0.014656367597544035)\">0.02</th><th style=\"background:rgba(255.0, 13.0, 87.0, 0.03830461477520289)\">0.044</th><th style=\"background:rgba(230.2941176470614, 26.505882352939775, 102.59215686274348, 0.0)\">0.0</th><th style=\"background:rgba(255.0, 13.0, 87.0, 0.014656367597544035)\">0.017</th><th style=\"background:rgba(255.0, 13.0, 87.0, 0.030421865715983164)\">0.034</th><th style=\"background:rgba(255.0, 13.0, 87.0, 0.00677361853832443)\">0.01</th><th style=\"background:rgba(230.2941176470614, 26.505882352939775, 102.59215686274348, 0.0)\">0.0</th></tr><tr><th>2</th><th>▁6</th><th style=\"background:rgba(255.0, 13.0, 87.0, 0.05407011289364243)\">0.057</th><th style=\"background:rgba(255.0, 13.0, 87.0, 0.014656367597544035)\">0.019</th><th style=\"background:rgba(255.0, 13.0, 87.0, 0.030421865715983164)\">0.032</th><th style=\"background:rgba(255.0, 13.0, 87.0, 0.030421865715983164)\">0.036</th><th style=\"background:rgba(255.0, 13.0, 87.0, 0.014656367597544035)\">0.019</th><th style=\"background:rgba(255.0, 13.0, 87.0, 0.04618736383442265)\">0.054</th><th style=\"background:rgba(230.2941176470614, 26.505882352939775, 102.59215686274348, 0.0)\">0.0</th><th style=\"background:rgba(255.0, 13.0, 87.0, 0.00677361853832443)\">0.015</th><th style=\"background:rgba(255.0, 13.0, 87.0, 0.014656367597544035)\">0.023</th><th style=\"background:rgba(255.0, 13.0, 87.0, 0.00677361853832443)\">0.01</th><th style=\"background:rgba(230.2941176470614, 26.505882352939775, 102.59215686274348, 0.0)\">0.0</th></tr><tr><th>3</th><th>▁Jahre</th><th style=\"background:rgba(255.0, 13.0, 87.0, 0.04618736383442265)\">0.052</th><th style=\"background:rgba(255.0, 13.0, 87.0, 0.014656367597544035)\">0.022</th><th style=\"background:rgba(255.0, 13.0, 87.0, 0.03830461477520289)\">0.046</th><th style=\"background:rgba(255.0, 13.0, 87.0, 0.04618736383442265)\">0.047</th><th style=\"background:rgba(255.0, 13.0, 87.0, 0.014656367597544035)\">0.022</th><th style=\"background:rgba(255.0, 13.0, 87.0, 0.04618736383442265)\">0.05</th><th style=\"background:rgba(230.2941176470614, 26.505882352939775, 102.59215686274348, 0.0)\">0.0</th><th style=\"background:rgba(255.0, 13.0, 87.0, 0.02253911665676371)\">0.028</th><th style=\"background:rgba(255.0, 13.0, 87.0, 0.014656367597544035)\">0.023</th><th style=\"background:rgba(255.0, 13.0, 87.0, 0.00677361853832443)\">0.013</th><th style=\"background:rgba(230.2941176470614, 26.505882352939775, 102.59215686274348, 0.0)\">0.0</th></tr><tr><th>4</th><th>▁alt.\n",
       "&lt;/Artikel&gt;\n",
       "&lt;Satz&gt;\n",
       "Thomas</th><th style=\"background:rgba(255.0, 13.0, 87.0, 0.18019409784115661)\">0.184</th><th style=\"background:rgba(255.0, 13.0, 87.0, 0.08560110913052081)\">0.092</th><th style=\"background:rgba(255.0, 13.0, 87.0, 0.10924935630817992)\">0.116</th><th style=\"background:rgba(255.0, 13.0, 87.0, 0.10924935630817992)\">0.113</th><th style=\"background:rgba(255.0, 13.0, 87.0, 0.06983561101208159)\">0.071</th><th style=\"background:rgba(255.0, 13.0, 87.0, 0.10924935630817992)\">0.117</th><th style=\"background:rgba(255.0, 13.0, 87.0, 0.1171321053673995)\">0.121</th><th style=\"background:rgba(255.0, 13.0, 87.0, 0.04618736383442265)\">0.049</th><th style=\"background:rgba(255.0, 13.0, 87.0, 0.06983561101208159)\">0.076</th><th style=\"background:rgba(255.0, 13.0, 87.0, 0.05407011289364243)\">0.058</th><th style=\"background:rgba(230.2941176470614, 26.505882352939775, 102.59215686274348, 0.0)\">0.0</th></tr><tr><th>5</th><th>▁ist</th><th style=\"background:rgba(255.0, 13.0, 87.0, 0.05407011289364243)\">0.056</th><th style=\"background:rgba(255.0, 13.0, 87.0, 0.014656367597544035)\">0.019</th><th style=\"background:rgba(255.0, 13.0, 87.0, 0.030421865715983164)\">0.033</th><th style=\"background:rgba(255.0, 13.0, 87.0, 0.030421865715983164)\">0.036</th><th style=\"background:rgba(255.0, 13.0, 87.0, 0.014656367597544035)\">0.016</th><th style=\"background:rgba(255.0, 13.0, 87.0, 0.030421865715983164)\">0.036</th><th style=\"background:rgba(230.2941176470614, 26.505882352939775, 102.59215686274348, 0.0)\">0.0</th><th style=\"background:rgba(255.0, 13.0, 87.0, 0.00677361853832443)\">0.009</th><th style=\"background:rgba(255.0, 13.0, 87.0, 0.014656367597544035)\">0.023</th><th style=\"background:rgba(255.0, 13.0, 87.0, 0.00677361853832443)\">0.01</th><th style=\"background:rgba(230.2941176470614, 26.505882352939775, 102.59215686274348, 0.0)\">0.0</th></tr><tr><th>6</th><th>▁7</th><th style=\"background:rgba(255.0, 13.0, 87.0, 0.06195286195286207)\">0.064</th><th style=\"background:rgba(255.0, 13.0, 87.0, 0.014656367597544035)\">0.02</th><th style=\"background:rgba(255.0, 13.0, 87.0, 0.04618736383442265)\">0.049</th><th style=\"background:rgba(255.0, 13.0, 87.0, 0.030421865715983164)\">0.039</th><th style=\"background:rgba(255.0, 13.0, 87.0, 0.014656367597544035)\">0.022</th><th style=\"background:rgba(255.0, 13.0, 87.0, 0.06983561101208159)\">0.076</th><th style=\"background:rgba(230.2941176470614, 26.505882352939775, 102.59215686274348, 0.0)\">0.0</th><th style=\"background:rgba(255.0, 13.0, 87.0, 0.00677361853832443)\">0.012</th><th style=\"background:rgba(255.0, 13.0, 87.0, 0.030421865715983164)\">0.032</th><th style=\"background:rgba(255.0, 13.0, 87.0, 0.00677361853832443)\">0.012</th><th style=\"background:rgba(230.2941176470614, 26.505882352939775, 102.59215686274348, 0.0)\">0.0</th></tr><tr><th>7</th><th>▁Jahre</th><th style=\"background:rgba(255.0, 13.0, 87.0, 0.06195286195286207)\">0.068</th><th style=\"background:rgba(255.0, 13.0, 87.0, 0.014656367597544035)\">0.02</th><th style=\"background:rgba(255.0, 13.0, 87.0, 0.02253911665676371)\">0.031</th><th style=\"background:rgba(255.0, 13.0, 87.0, 0.030421865715983164)\">0.039</th><th style=\"background:rgba(255.0, 13.0, 87.0, 0.014656367597544035)\">0.019</th><th style=\"background:rgba(255.0, 13.0, 87.0, 0.04618736383442265)\">0.055</th><th style=\"background:rgba(230.2941176470614, 26.505882352939775, 102.59215686274348, 0.0)\">0.0</th><th style=\"background:rgba(255.0, 13.0, 87.0, 0.014656367597544035)\">0.018</th><th style=\"background:rgba(255.0, 13.0, 87.0, 0.014656367597544035)\">0.021</th><th style=\"background:rgba(230.2941176470614, 26.505882352939775, 102.59215686274348, 0.0)\">0.008</th><th style=\"background:rgba(230.2941176470614, 26.505882352939775, 102.59215686274348, 0.0)\">0.0</th></tr><tr><th>8</th><th>▁alt.\n",
       "&lt;/Satz&gt;\n",
       "&lt;Antwort&gt;\n",
       "{\n",
       "</th><th style=\"background:rgba(255.0, 13.0, 87.0, 0.2747870865517925)\">0.28</th><th style=\"background:rgba(255.0, 13.0, 87.0, 0.3536145771439889)\">0.353</th><th style=\"background:rgba(255.0, 13.0, 87.0, 0.2511388393741335)\">0.251</th><th style=\"background:rgba(255.0, 13.0, 87.0, 0.17231134878193693)\">0.176</th><th style=\"background:rgba(255.0, 13.0, 87.0, 0.1171321053673995)\">0.121</th><th style=\"background:rgba(255.0, 13.0, 87.0, 0.10136660724896006)\">0.103</th><th style=\"background:rgba(255.0, 13.0, 87.0, 0.14078035254505847)\">0.141</th><th style=\"background:rgba(255.0, 13.0, 87.0, 0.04618736383442265)\">0.048</th><th style=\"background:rgba(255.0, 13.0, 87.0, 0.09348385818974037)\">0.099</th><th style=\"background:rgba(255.0, 13.0, 87.0, 0.15654585066349747)\">0.158</th><th style=\"background:rgba(230.2941176470614, 26.505882352939775, 102.59215686274348, 0.0)\">0.0</th></tr><tr><th>9</th><th>▁▁▁▁\"Antwort\":</th><th style=\"background:rgba(0.0, 0.0, 0.0, 0.0)\"></th><th style=\"background:rgba(255.0, 13.0, 87.0, 0.3142008318478907)\">0.317</th><th style=\"background:rgba(255.0, 13.0, 87.0, 0.3142008318478907)\">0.313</th><th style=\"background:rgba(255.0, 13.0, 87.0, 0.1959595959595959)\">0.203</th><th style=\"background:rgba(255.0, 13.0, 87.0, 0.2117250940780353)\">0.213</th><th style=\"background:rgba(255.0, 13.0, 87.0, 0.08560110913052081)\">0.09</th><th style=\"background:rgba(255.0, 13.0, 87.0, 0.15654585066349747)\">0.161</th><th style=\"background:rgba(255.0, 13.0, 87.0, 0.03830461477520289)\">0.04</th><th style=\"background:rgba(255.0, 13.0, 87.0, 0.08560110913052081)\">0.094</th><th style=\"background:rgba(255.0, 13.0, 87.0, 0.12501485442661908)\">0.132</th><th style=\"background:rgba(230.2941176470614, 26.505882352939775, 102.59215686274348, 0.0)\">0.0</th></tr><tr><th>10</th><th>▁[\n",
       "</th><th style=\"background:rgba(0.0, 0.0, 0.0, 0.0)\"></th><th style=\"background:rgba(0.0, 0.0, 0.0, 0.0)\"></th><th style=\"background:rgba(0.0, 0.0, 0.0, 0.0)\"></th><th style=\"background:rgba(255.0, 13.0, 87.0, 0.18019409784115661)\">0.184</th><th style=\"background:rgba(255.0, 13.0, 87.0, 0.09348385818974037)\">0.098</th><th style=\"background:rgba(255.0, 13.0, 87.0, 0.06195286195286207)\">0.069</th><th style=\"background:rgba(255.0, 13.0, 87.0, 0.10924935630817992)\">0.116</th><th style=\"background:rgba(255.0, 13.0, 87.0, 0.02253911665676371)\">0.024</th><th style=\"background:rgba(255.0, 13.0, 87.0, 0.09348385818974037)\">0.095</th><th style=\"background:rgba(255.0, 13.0, 87.0, 0.10136660724896006)\">0.108</th><th style=\"background:rgba(230.2941176470614, 26.505882352939775, 102.59215686274348, 0.0)\">0.0</th></tr><tr><th>11</th><th>▁▁▁▁▁▁▁▁{\n",
       "</th><th style=\"background:rgba(0.0, 0.0, 0.0, 0.0)\"></th><th style=\"background:rgba(0.0, 0.0, 0.0, 0.0)\"></th><th style=\"background:rgba(0.0, 0.0, 0.0, 0.0)\"></th><th style=\"background:rgba(0.0, 0.0, 0.0, 0.0)\"></th><th style=\"background:rgba(255.0, 13.0, 87.0, 0.10136660724896006)\">0.104</th><th style=\"background:rgba(255.0, 13.0, 87.0, 0.07771836007130124)\">0.082</th><th style=\"background:rgba(255.0, 13.0, 87.0, 0.13289760348583876)\">0.134</th><th style=\"background:rgba(255.0, 13.0, 87.0, 0.02253911665676371)\">0.029</th><th style=\"background:rgba(255.0, 13.0, 87.0, 0.09348385818974037)\">0.099</th><th style=\"background:rgba(255.0, 13.0, 87.0, 0.05407011289364243)\">0.062</th><th style=\"background:rgba(230.2941176470614, 26.505882352939775, 102.59215686274348, 0.0)\">0.0</th></tr><tr><th>12</th><th>▁▁▁▁▁▁▁▁▁▁▁▁\"Satzabschnitt\":</th><th style=\"background:rgba(0.0, 0.0, 0.0, 0.0)\"></th><th style=\"background:rgba(0.0, 0.0, 0.0, 0.0)\"></th><th style=\"background:rgba(0.0, 0.0, 0.0, 0.0)\"></th><th style=\"background:rgba(0.0, 0.0, 0.0, 0.0)\"></th><th style=\"background:rgba(255.0, 13.0, 87.0, 0.219607843137255)\">0.226</th><th style=\"background:rgba(255.0, 13.0, 87.0, 0.16442859972271742)\">0.167</th><th style=\"background:rgba(255.0, 13.0, 87.0, 0.18019409784115661)\">0.186</th><th style=\"background:rgba(255.0, 13.0, 87.0, 0.05407011289364243)\">0.057</th><th style=\"background:rgba(255.0, 13.0, 87.0, 0.06983561101208159)\">0.075</th><th style=\"background:rgba(255.0, 13.0, 87.0, 0.030421865715983164)\">0.038</th><th style=\"background:rgba(230.2941176470614, 26.505882352939775, 102.59215686274348, 0.0)\">0.0</th></tr><tr><th>13</th><th>▁\"-\",\n",
       "</th><th style=\"background:rgba(0.0, 0.0, 0.0, 0.0)\"></th><th style=\"background:rgba(0.0, 0.0, 0.0, 0.0)\"></th><th style=\"background:rgba(0.0, 0.0, 0.0, 0.0)\"></th><th style=\"background:rgba(0.0, 0.0, 0.0, 0.0)\"></th><th style=\"background:rgba(0.0, 0.0, 0.0, 0.0)\"></th><th style=\"background:rgba(0.0, 0.0, 0.0, 0.0)\"></th><th style=\"background:rgba(255.0, 13.0, 87.0, 0.10136660724896006)\">0.104</th><th style=\"background:rgba(255.0, 13.0, 87.0, 0.04618736383442265)\">0.051</th><th style=\"background:rgba(255.0, 13.0, 87.0, 0.06983561101208159)\">0.077</th><th style=\"background:rgba(255.0, 13.0, 87.0, 0.030421865715983164)\">0.035</th><th style=\"background:rgba(230.2941176470614, 26.505882352939775, 102.59215686274348, 0.0)\">0.0</th></tr><tr><th>14</th><th>▁▁▁▁▁▁▁▁▁▁▁▁\"Label\":</th><th style=\"background:rgba(0.0, 0.0, 0.0, 0.0)\"></th><th style=\"background:rgba(0.0, 0.0, 0.0, 0.0)\"></th><th style=\"background:rgba(0.0, 0.0, 0.0, 0.0)\"></th><th style=\"background:rgba(0.0, 0.0, 0.0, 0.0)\"></th><th style=\"background:rgba(0.0, 0.0, 0.0, 0.0)\"></th><th style=\"background:rgba(0.0, 0.0, 0.0, 0.0)\"></th><th style=\"background:rgba(0.0, 0.0, 0.0, 0.0)\"></th><th style=\"background:rgba(255.0, 13.0, 87.0, 0.07771836007130124)\">0.08</th><th style=\"background:rgba(255.0, 13.0, 87.0, 0.05407011289364243)\">0.06</th><th style=\"background:rgba(255.0, 13.0, 87.0, 0.02253911665676371)\">0.031</th><th style=\"background:rgba(230.2941176470614, 26.505882352939775, 102.59215686274348, 0.0)\">0.0</th></tr><tr><th>15</th><th>▁\"Faithful\"\n",
       "</th><th style=\"background:rgba(0.0, 0.0, 0.0, 0.0)\"></th><th style=\"background:rgba(0.0, 0.0, 0.0, 0.0)\"></th><th style=\"background:rgba(0.0, 0.0, 0.0, 0.0)\"></th><th style=\"background:rgba(0.0, 0.0, 0.0, 0.0)\"></th><th style=\"background:rgba(0.0, 0.0, 0.0, 0.0)\"></th><th style=\"background:rgba(0.0, 0.0, 0.0, 0.0)\"></th><th style=\"background:rgba(0.0, 0.0, 0.0, 0.0)\"></th><th style=\"background:rgba(255.0, 13.0, 87.0, 0.49550406020994264)\">0.492</th><th style=\"background:rgba(255.0, 13.0, 87.0, 0.10924935630817992)\">0.11</th><th style=\"background:rgba(255.0, 13.0, 87.0, 0.06983561101208159)\">0.076</th><th style=\"background:rgba(230.2941176470614, 26.505882352939775, 102.59215686274348, 0.0)\">0.0</th></tr><tr><th>16</th><th>▁▁▁▁▁▁▁▁}\n",
       "</th><th style=\"background:rgba(0.0, 0.0, 0.0, 0.0)\"></th><th style=\"background:rgba(0.0, 0.0, 0.0, 0.0)\"></th><th style=\"background:rgba(0.0, 0.0, 0.0, 0.0)\"></th><th style=\"background:rgba(0.0, 0.0, 0.0, 0.0)\"></th><th style=\"background:rgba(0.0, 0.0, 0.0, 0.0)\"></th><th style=\"background:rgba(0.0, 0.0, 0.0, 0.0)\"></th><th style=\"background:rgba(0.0, 0.0, 0.0, 0.0)\"></th><th style=\"background:rgba(0.0, 0.0, 0.0, 0.0)\"></th><th style=\"background:rgba(0.0, 0.0, 0.0, 0.0)\"></th><th style=\"background:rgba(255.0, 13.0, 87.0, 0.06983561101208159)\">0.075</th><th style=\"background:rgba(230.2941176470614, 26.505882352939775, 102.59215686274348, 0.0)\">0.0</th></tr><tr><th>17</th><th>▁▁▁▁]\n",
       "}\n",
       "&lt;/Antwort</th><th style=\"background:rgba(0.0, 0.0, 0.0, 0.0)\"></th><th style=\"background:rgba(0.0, 0.0, 0.0, 0.0)\"></th><th style=\"background:rgba(0.0, 0.0, 0.0, 0.0)\"></th><th style=\"background:rgba(0.0, 0.0, 0.0, 0.0)\"></th><th style=\"background:rgba(0.0, 0.0, 0.0, 0.0)\"></th><th style=\"background:rgba(0.0, 0.0, 0.0, 0.0)\"></th><th style=\"background:rgba(0.0, 0.0, 0.0, 0.0)\"></th><th style=\"background:rgba(0.0, 0.0, 0.0, 0.0)\"></th><th style=\"background:rgba(0.0, 0.0, 0.0, 0.0)\"></th><th style=\"background:rgba(255.0, 13.0, 87.0, 0.12501485442661908)\">0.126</th><th style=\"background:rgba(255.0, 13.0, 87.0, 1.0)\">1.0</th></tr><tr><th>18</th><th>&gt;</th><th style=\"background:rgba(0.0, 0.0, 0.0, 0.0)\"></th><th style=\"background:rgba(0.0, 0.0, 0.0, 0.0)\"></th><th style=\"background:rgba(0.0, 0.0, 0.0, 0.0)\"></th><th style=\"background:rgba(0.0, 0.0, 0.0, 0.0)\"></th><th style=\"background:rgba(0.0, 0.0, 0.0, 0.0)\"></th><th style=\"background:rgba(0.0, 0.0, 0.0, 0.0)\"></th><th style=\"background:rgba(0.0, 0.0, 0.0, 0.0)\"></th><th style=\"background:rgba(0.0, 0.0, 0.0, 0.0)\"></th><th style=\"background:rgba(0.0, 0.0, 0.0, 0.0)\"></th><th style=\"background:rgba(0.0, 0.0, 0.0, 0.0)\"></th><th style=\"background:rgba(0.0, 0.0, 0.0, 0.0)\"></th></tr></table>\n",
       "</div>\n",
       "\n",
       "        </div>\n",
       "    </div>\n",
       "</div>\n",
       "</html>\n"
      ]
     },
     "metadata": {},
     "output_type": "display_data"
    }
   ],
   "execution_count": 18
  },
  {
   "metadata": {
    "ExecuteTime": {
     "end_time": "2024-07-03T09:41:52.338200Z",
     "start_time": "2024-07-03T09:41:52.331345Z"
    }
   },
   "cell_type": "code",
   "source": [
    "# test = subw_sqa_agg.sequence_attributions[0]\n",
    "# source_tokens = test.source\n",
    "# attribution_start_pos = [i for i, target_token in enumerate(list(test.target)) if '\"Satzabschnitt\":' in target_token.token][0]\n",
    "# attribution_end_pos = [i for i, target_token in enumerate(list(test.target)) if '\"Label\":' in target_token.token][0] + 2\n",
    "# start_indices = [i for i, source_token in enumerate(list(test.source)) if \"<Artikel>\" in source_token.token]\n",
    "# end_indices = [i for i, source_token in enumerate(test.source) if \"</Satz>\" in source_token.token]\n",
    "# input_start_pos = start_indices[0] if start_indices else -1\n",
    "# input_end_pos =end_indices[0] + 1 if end_indices else -1\n",
    "# offset = len(test.target) - len(test.source)\n",
    "# selected_target_attributions = test.target_attributions[input_start_pos:input_end_pos, attribution_start_pos - len(test.source) - offset:attribution_end_pos - len(test.source) - offset]\n",
    "# attribution_column_labels = [ test.target[index].token for index in range(attribution_start_pos, attribution_end_pos)]\n",
    "# input_row_labels = [ test.source[index].token for index in range(input_start_pos, input_end_pos) ]\n",
    "# assert len(input_row_labels) == selected_target_attributions.shape[0]\n",
    "# assert len(attribution_column_labels) == selected_target_attributions.shape[1]"
   ],
   "id": "4e8f7f8add125e23",
   "outputs": [],
   "execution_count": 34
  },
  {
   "metadata": {},
   "cell_type": "code",
   "source": [
    "# # Create DataFrame\n",
    "# df = pd.DataFrame(selected_target_attributions.numpy(), index=input_row_labels, columns=attribution_column_labels)\n",
    "# \n",
    "# # Create heatmap\n",
    "# plt.figure(figsize=(20, 8))\n",
    "# ax = sns.heatmap(df, annot=True, cmap=\"coolwarm\",\n",
    "#                  linewidths=.5, cbar=True)\n",
    "# \n",
    "# # Rotate labels for better fit\n",
    "# plt.yticks(rotation=0, fontsize=10)\n",
    "# ax.xaxis.tick_top()\n",
    "# ax.set_xticklabels(ax.get_xticklabels(), rotation=30)\n",
    "# # Improve layout\n",
    "# plt.tight_layout()\n",
    "# \n",
    "# # Show plot\n",
    "# plt.show()"
   ],
   "id": "8f4750a14328c8be",
   "outputs": [],
   "execution_count": null
  },
  {
   "metadata": {},
   "cell_type": "code",
   "source": [
    "# def is_sentence_ending(tok: str):\n",
    "#     return tok.endswith(\".\") or tok.endswith(\":\")\n",
    "# \n",
    "# \n",
    "# start_pos = out[0].attr_pos_start\n",
    "# ends = [i + 1 for i, t in enumerate(out[0].target) if is_sentence_ending(t.token) and i < start_pos - 1] + [\n",
    "#     start_pos - 1]\n",
    "# starts = [0] + [i + 1 for i, t in enumerate(out[0].target) if is_sentence_ending(t.token) and i < start_pos - 1]\n",
    "# spans = list(zip(starts, ends))\n",
    "# res = out.aggregate(\"spans\", target_spans=spans)\n",
    "# res.show()"
   ],
   "id": "e861b8b5ccf974ee",
   "outputs": [],
   "execution_count": null
  }
 ],
 "metadata": {
  "kernelspec": {
   "display_name": "Python 3",
   "language": "python",
   "name": "python3"
  },
  "language_info": {
   "codemirror_mode": {
    "name": "ipython",
    "version": 2
   },
   "file_extension": ".py",
   "mimetype": "text/x-python",
   "name": "python",
   "nbconvert_exporter": "python",
   "pygments_lexer": "ipython2",
   "version": "2.7.6"
  }
 },
 "nbformat": 4,
 "nbformat_minor": 5
}
